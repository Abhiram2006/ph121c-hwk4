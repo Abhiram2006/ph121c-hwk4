{
 "cells": [
  {
   "cell_type": "code",
   "execution_count": 1,
   "id": "bd74d4ae-3dba-4608-a99d-4e949ec6ddd9",
   "metadata": {
    "tags": []
   },
   "outputs": [],
   "source": [
    "import numpy as np\n",
    "import matplotlib.pyplot as plt\n",
    "import scipy\n",
    "from tqdm import tqdm\n",
    "import time, sys, os\n",
    "\n",
    "directory = 'figures'\n",
    "if not os.path.exists(directory):\n",
    "    os.makedirs(directory)\n",
    "plt.rcParams['figure.dpi']=400"
   ]
  },
  {
   "cell_type": "markdown",
   "id": "077b8a02-ec3f-448b-958d-6e553768853d",
   "metadata": {},
   "source": [
    "# Implementation of the TEBD for a test case"
   ]
  },
  {
   "cell_type": "markdown",
   "id": "341e9af0-1551-4a4b-9c3d-495958f06585",
   "metadata": {
    "tags": []
   },
   "source": [
    "## Assignment: MPS simulations using TEBD\n",
    "\n",
    "We will again study the quantum Ising model subject to a magnetic field with both transverse and longitudinal components:\n",
    "\n",
    "$$\n",
    "H = -J \\sum_{j=1}^{L-1} \\sigma_j^z \\sigma_{j+1}^z - h^x \\sum_{j=1}^{L} \\sigma_j^x - h^z \\sum_{j=1}^{L} \\sigma_j^z .\n",
    "$$\n",
    "\n",
    "Set $ J = 1 $ and the magnetic field to $ (h^x, h^z) = (-1.05, 0.5) $, the same values as in Assignment 3, to allow you to test your MPS-based approach against exact diagonalization for small system sizes. Because we are now working with MPS, consider the system with open boundary conditions where the MPS simulations are most transparent. To specify a time-evolution procedure, this Hamiltonian can be arranged into three groups of commuting terms (i.e., commuting within each group): $ H = H_{\\text{odd}} + H_{\\text{even}} + H_{\\text{field}} $, each of which can be readily exponentiated. The groupings are:\n",
    "\n",
    "$$\n",
    "H_{\\text{odd}} = -J \\sum_{j=1,3,5,\\ldots} \\sigma_j^z \\sigma_{j+1}^z = -J (\\sigma_1^z \\sigma_2^z + \\sigma_3^z \\sigma_4^z + \\sigma_5^z \\sigma_6^z + \\cdots ) ,\n",
    "$$\n",
    "\n",
    "$$\n",
    "H_{\\text{even}} = -J \\sum_{j=2,4,6,\\ldots} \\sigma_j^z \\sigma_{j+1}^z = -J (\\sigma_2^z \\sigma_3^z + \\sigma_4^z \\sigma_5^z + \\sigma_6^z \\sigma_7^z + \\cdots ) ,\n",
    "$$\n",
    "\n",
    "$$\n",
    "H_{\\text{field}} = \\sum_{j=1}^{L} (-h^x \\sigma_j^x - h^z \\sigma_j^z) = -h^x \\sigma_1^x - h^z \\sigma_1^z - h^x \\sigma_2^x - h^z \\sigma_2^z - h^x \\sigma_3^x - h^z \\sigma_3^z - \\cdots .\n",
    "$$\n",
    "\n",
    "Clearly the terms in $ H_{\\text{odd}} $ commute, and similarly for $ H_{\\text{even}} $, so they can be exponentiated directly:\n",
    "\n",
    "$$\n",
    "e^{-itH_{\\text{odd}}} = e^{itJ\\sigma_1^z \\sigma_2^z} e^{itJ\\sigma_3^z \\sigma_4^z} e^{itJ\\sigma_5^z \\sigma_6^z} \\cdots , \\quad e^{-itH_{\\text{even}}} = e^{itJ\\sigma_2^z \\sigma_3^z} e^{itJ\\sigma_4^z \\sigma_5^z} e^{itJ\\sigma_6^z \\sigma_7^z} \\cdots .\n",
    "$$\n",
    "\n",
    "Within $ H_{\\text{field}} $, $ \\sigma_j^x $ and $ \\sigma_j^z $ do not commute on the same site. However, as these are single-site operators we can combine the terms for each $ j $ into\n",
    "\n",
    "$$\n",
    "\\omega_j \\equiv -h^x \\sigma_j^x - h^z \\sigma_j^z = \\begin{bmatrix} -h^z & -h^x \\\\ -h^x & h^z \\end{bmatrix} ,\n",
    "$$\n",
    "\n",
    "written in the $ \\sigma^z $ basis. As all of the $ \\omega_j $ commute, now $ e^{-itH_{\\text{field}}} = e^{-it\\omega_1} e^{-it\\omega_2} e^{-it\\omega_3} \\cdots $. Each $ e^{-it\\omega_j} $ can be written out using formulas for Pauli matrices, e.g., $ \\exp(i\\phi \\mathbf{n} \\cdot \\sigma) = \\cos(\\phi) + i \\sin(\\phi) \\mathbf{n} \\cdot \\sigma $ [where $ \\mathbf{n} $ is a unit vector] for real time evolution, substituting hyperbolic functions for imaginary time evolution, or by direct exponentiation of the matrix. (Incidentally, you may notice that in this case other Trotter patterns than the one presented below are possible and may be more efficient. If you'd like, you can explore some of these, but the scheme outlined above will work regardless of the details of the terms in $ H $.)\n",
    "\n",
    "### 4.1 Imaginary time evolution\n",
    "\n",
    "\"Rotate\" now to imaginary time $\\tau = it$ and perform TEBD for cooling to the ground state. It will turn out that in this case all the tensors are real-valued, but you should write your solution to also handle complex-valued tensors, for example using actual Hermitian conjugates rather than transposes; this will greatly simplify the process of going to real time evolution. However if your programming language is not strict about types, you may need to periodically cast complex values to reals in order to use specialized linear algebra routines.\n"
   ]
  },
  {
   "cell_type": "markdown",
   "id": "605924a6-3a80-44ad-9e80-79c9b36a3ab5",
   "metadata": {},
   "source": [
    "## Test wave-function"
   ]
  },
  {
   "cell_type": "code",
   "execution_count": 178,
   "id": "c89da3cb-e558-409b-843e-ab4abbb4acb7",
   "metadata": {},
   "outputs": [],
   "source": [
    "def ferromagnetic_state_MPS(L):\n",
    "    \n",
    "    # given L, returns the MPS tensors of the ferromagnetic state.\n",
    "    \n",
    "    mps_tensors= []\n",
    "    \n",
    "    A = np.zeros((1, 2, 1), dtype = complex)\n",
    "    A[0, 0, 0] = 1\n",
    "    A[0, 1, 0] = 0\n",
    "    \n",
    "    for i in range(L):\n",
    "        mps_tensors.append(A)\n",
    "\n",
    "    return mps_tensors"
   ]
  },
  {
   "cell_type": "markdown",
   "id": "989e8225-4281-497d-aea8-c906e78ead12",
   "metadata": {},
   "source": [
    "## Useful troubleshooting code"
   ]
  },
  {
   "cell_type": "code",
   "execution_count": 3,
   "id": "69782277-fe21-4fb2-92df-10d1456870bb",
   "metadata": {},
   "outputs": [],
   "source": [
    "def mps(psi, k):\n",
    "\n",
    "    # Converts a wavefunction into mps form\n",
    "    \n",
    "    mps_tensors = []\n",
    "    L = int(np.log2(len(psi)))  # Number of spins/sites\n",
    "    psi_matrix = psi.reshape(2, 2**(L-1))\n",
    "\n",
    "    for i in range(L-1):\n",
    "        \n",
    "        U, S, Vh = np.linalg.svd(psi_matrix, full_matrices=False)\n",
    "        \n",
    "        chi = min(k, len(S))\n",
    "        \n",
    "        S_truncated = S[: chi]\n",
    "        U_truncated = U[:, :chi]\n",
    "        Vh_truncated = Vh[:chi, :]\n",
    "\n",
    "        mps_tensors.append(U_truncated.reshape((-1, 2, chi)))\n",
    "\n",
    "        if i < L - 2:\n",
    "            psi_matrix = (np.diag(S_truncated) @ Vh_truncated).reshape(2*chi, -1)\n",
    "            \n",
    "        else:\n",
    "            last_tensor = (np.diag(S_truncated) @ Vh_truncated)\n",
    "            mps_tensors.append(last_tensor.reshape(chi, 2, -1))\n",
    "\n",
    "    return mps_tensors\n",
    "\n",
    "def contract_mps_tensors(mps_tensors):\n",
    "\n",
    "    # converts mps tensor form to a usual column vector wave-function.\n",
    "    \n",
    "    state = mps_tensors[0]\n",
    "    \n",
    "    for tensor in mps_tensors[1:]: \n",
    "        state = np.einsum('ijk,kln->ijln', state, tensor).reshape(1, -1, tensor.shape[2])\n",
    "        \n",
    "    return state.reshape(-1)"
   ]
  },
  {
   "cell_type": "markdown",
   "id": "98861314-b7a3-49ab-9de3-e86c4c586b24",
   "metadata": {},
   "source": [
    "## Hamiltonian"
   ]
  },
  {
   "cell_type": "code",
   "execution_count": 4,
   "id": "73198484-9296-4caf-b647-8df538a704b0",
   "metadata": {},
   "outputs": [],
   "source": [
    "def denseH(L, J, hx, hz, periodic):\n",
    "    \"\"\"\n",
    "    generates the dense Hamiltonian matrix for the quantum Ising chain with both transverse and longitudinal magnetic fields\n",
    "    \n",
    "        Parameters:\n",
    "            L (int): length of chain\n",
    "            J (float): ising interaction strength\n",
    "            h (float): magnetic field strength\n",
    "            periodic (bool): does the chain have periodic boundary conditions?\n",
    "            \n",
    "        Returns:\n",
    "            H (ndarray): 2^L x 2^L matrix representing the Hamiltonian operator\n",
    "    \"\"\"\n",
    "\n",
    "    dim=2 ** L # dimensions of the Hilbert space\n",
    "    \n",
    "    H = np.zeros((dim, dim)) # initliaze the Hamiltonian\n",
    "    \n",
    "    \"Calculation of off-diagonal elements due to the magnetic field\"\n",
    "    \n",
    "    for beta in range(dim): # iterate over all states\n",
    "        \n",
    "        for j in range(1,L+1): # iterate over all sites\n",
    "            \n",
    "            alpha = beta ^ (1<<j-1) # flips jth bit of beta to get the state alpha that is related to beta by a single bit flip\n",
    "            \n",
    "            H[alpha, beta] -= hx # contribution by sigma^j_x\n",
    "            \n",
    "    \"Calculation of diagonal elements due to Ising interaction\"\n",
    "\n",
    "    for alpha in range(dim): # iterate over all states\n",
    "        \n",
    "        for j in range(1, L): # iterate over all sites\n",
    "            \n",
    "            if 2*(alpha & (1 << j-1)) == alpha & (1 << j): # check if site j and j+1 have the same spin\n",
    "                \n",
    "                H[alpha, alpha] -= J # if they do, decrease the energy by the ising interaction term\n",
    "                \n",
    "            else:\n",
    "                \n",
    "                H[alpha, alpha] += J # if not, increase the energy by the ising interaction term\n",
    "            \n",
    "        \"Diagonal elements due to longitudinal magnetic field\"\n",
    "        \n",
    "        for j in range(1, L+1):\n",
    "            \n",
    "            if alpha & (1 << (j-1)) == 0:  # check if the spin at site j is up\n",
    "                H[alpha, alpha] -= hz  # decrease energy for spin up\n",
    "                \n",
    "            else:\n",
    "                H[alpha, alpha] += hz  # increase energy for spin down\n",
    "\n",
    "        \n",
    "        \"Handling case of periodic boundary conditions\"\n",
    "                \n",
    "        if periodic and L > 1: # L > 1 needed for periodicity to mean anything\n",
    "            \n",
    "            if (alpha & (1 << L-1)) == ((alpha & (1 << 0))*(2**(L-1))): # Check if the states at either end have the same spin\n",
    "                \n",
    "                H[alpha, alpha] -= J # if they do, decrease the energy by the ising interaction term\n",
    "                \n",
    "            else:\n",
    "                \n",
    "                H[alpha, alpha] += J # if not, increase the energy by the ising interaction term\n",
    "                \n",
    "    return H   "
   ]
  },
  {
   "cell_type": "markdown",
   "id": "fbd7c71e-d4bf-401a-8536-e4745b85f326",
   "metadata": {},
   "source": [
    "## Inner product of MPS"
   ]
  },
  {
   "cell_type": "code",
   "execution_count": 5,
   "id": "f0c7011e-7cf5-4165-9a50-70a3de1b68ff",
   "metadata": {},
   "outputs": [],
   "source": [
    "def inner_product(bra, ket):\n",
    "\n",
    "    # function to output <psi|psi> when given in MPS form \n",
    "    \n",
    "    result = np.einsum('jkl,mkn->ln', bra[0].conj(), ket[0])\n",
    "    \n",
    "    for i in range(1, len(ket)):\n",
    "\n",
    "        A = np.einsum('jkl,mkn->jmln', bra[i].conj(), ket[i])\n",
    "        result = np.einsum('jm,jmln->ln', result, A)\n",
    "    \n",
    "    return result.reshape(-1)[0]"
   ]
  },
  {
   "cell_type": "markdown",
   "id": "6b7e648f-8667-4f9a-b2c2-2a43cbc92836",
   "metadata": {},
   "source": [
    "## Function to calculate expectation value of Energy in MPS"
   ]
  },
  {
   "cell_type": "code",
   "execution_count": 6,
   "id": "f8b65adc-bcae-4627-a2b7-efbc9cdb9518",
   "metadata": {},
   "outputs": [],
   "source": [
    "def magnetic_term(ket, hx, hz):\n",
    "    \n",
    "    X = np.array([[0, 1], [1, 0]])\n",
    "    Z = np.array([[1, 0], [0, -1]])\n",
    "    \n",
    "    L = len(ket)\n",
    "    results = np.zeros(L, dtype = complex)\n",
    "    \n",
    "    for i in range(L):\n",
    "        \n",
    "        Hket = [np.copy(k) for k in ket]\n",
    "    \n",
    "        Hket[i] = hx*np.einsum('ij,kjm->kim', X, ket[i]) + hz*np.einsum('ij,kjm->kim', Z, ket[i])\n",
    "        \n",
    "        results[i] = inner_product(ket, Hket)\n",
    "        \n",
    "    return np.sum(results)\n",
    "        \n",
    "\n",
    "def ising_term(ket):\n",
    "    \n",
    "    Z = np.array([[1,0],[0,-1]])\n",
    "    L = len(ket)\n",
    "    results = np.zeros(L, dtype = complex)\n",
    "    \n",
    "    for i in range(0, L-1):\n",
    "        \n",
    "        Hket = [np.copy(k) for k in ket]\n",
    "        \n",
    "        Hket[i] = np.einsum('ij,kjm->kim', Z, ket[i])\n",
    "        \n",
    "        Hket[i+1] = np.einsum('ij,kjm->kim', Z, ket[i+1])\n",
    "        \n",
    "        results[i] = inner_product(ket, Hket)\n",
    "        \n",
    "    return np.sum(results)\n",
    "\n",
    "def expectation_value_energy(ket, hx, hz, J):\n",
    "    \n",
    "    energy = -magnetic_term(ket, hx, hz)-J*ising_term(ket)\n",
    "    norm = inner_product(ket, ket)\n",
    "    \n",
    "    return energy/norm"
   ]
  },
  {
   "cell_type": "code",
   "execution_count": 7,
   "id": "92be00ee-7f23-4429-ae81-ce1a4833086b",
   "metadata": {},
   "outputs": [
    {
     "name": "stdout",
     "output_type": "stream",
     "text": [
      "(-17+0j)\n"
     ]
    }
   ],
   "source": [
    "L = 12\n",
    "psi0 = np.array([[1], [0]])\n",
    "psi = psi0\n",
    "for i in range(L-1):\n",
    "    psi = np.kron(psi, psi0)\n",
    "\n",
    "print(expectation_value_energy(mps(psi, 1), -1.05, 0.5, 1))"
   ]
  },
  {
   "cell_type": "code",
   "execution_count": 8,
   "id": "5c94bfa8-fb93-47b4-982b-41d662fbdc59",
   "metadata": {},
   "outputs": [
    {
     "name": "stdout",
     "output_type": "stream",
     "text": [
      "Energy of ground state:  -19.945778039039247\n",
      "Energy of the trial state:  (-17+0j)\n"
     ]
    }
   ],
   "source": [
    "L = 12\n",
    "J = 1\n",
    "hx = -1.05\n",
    "hz = 0.5\n",
    "periodic = False \n",
    "\n",
    "tensors = ferromagnetic_state_MPS(L)\n",
    "H = denseH(L, J, hx, hz, periodic)\n",
    "eigs, vecs = scipy.linalg.eigh(H)\n",
    "\n",
    "print('Energy of ground state: ', eigs[0])\n",
    "print('Energy of the trial state: ', expectation_value_energy(tensors, hx, hz, J))"
   ]
  },
  {
   "cell_type": "code",
   "execution_count": 139,
   "id": "1da9b0f8-8c53-4ab5-bbf3-d32112876040",
   "metadata": {},
   "outputs": [],
   "source": [
    "def local_gate(dt, hx, hz, ket):\n",
    "    '''\n",
    "        Applies the local trotter propagators to the MPS and returns the new MPS\n",
    "    '''\n",
    "\n",
    "    L = len(ket)\n",
    "\n",
    "    w = np.array([[-hz, -hx], [-hx, hz]])\n",
    "    R = scipy.linalg.expm(-dt*w)\n",
    "\n",
    "    ket_new = []\n",
    "    \n",
    "    for i in range(L):\n",
    "        ket_new.append(np.einsum('ij,kjm->kim', R, ket[i]))\n",
    "\n",
    "    return ket_new\n",
    "\n",
    "def twosite_even_gate(dt, J, ket):\n",
    "    '''\n",
    "        Applies the even trotter propagators to the MPS and returns the new MPS\n",
    "    '''\n",
    "\n",
    "    L = len(ket)\n",
    "\n",
    "    Z = np.array([[1, 0],[0, -1]])\n",
    "    H = dt * J * np.kron(Z, Z)\n",
    "    T = scipy.linalg.expm(H).reshape(2, 2, 2, 2)\n",
    "\n",
    "    ket_new = []\n",
    "    \n",
    "    for i in range(0, L-1, 2):\n",
    "\n",
    "        A = np.einsum('ijk,klm->ijlm', ket[i], ket[i+1])\n",
    "        W = np.einsum('abjl,ijlm->iabm', T, A)\n",
    "        W = W.reshape(W.shape[0]*W.shape[1], -1)\n",
    "\n",
    "        U, S, Vh = np.linalg.svd(W, full_matrices=False)\n",
    "        \n",
    "        chi = len(S)\n",
    "        ket_new.append(U.reshape((-1, 2, chi)))\n",
    "        ket_new.append((np.diag(S) @ Vh).reshape(chi, 2, -1))\n",
    "\n",
    "    if L%2 != 0:\n",
    "        ket_new.append(ket[L-1])\n",
    "        \n",
    "        \n",
    "    return ket_new\n",
    "\n",
    "def twosite_odd_gate(dt, J, ket):\n",
    "    '''\n",
    "        Applies the odd trotter propagators to the MPS and returns the new MPS\n",
    "    '''\n",
    "\n",
    "    L = len(ket)\n",
    "\n",
    "    Z = np.array([[1, 0], [0, -1]])\n",
    "    H = dt* J * np.kron(Z, Z)\n",
    "    T = scipy.linalg.expm(H).reshape(2, 2, 2, 2)\n",
    "\n",
    "    ket_new = []\n",
    "    ket_new.append(ket[0])\n",
    "    \n",
    "    for i in range(1, L-1, 2):\n",
    "\n",
    "        A = np.einsum('ijk,klm->ijlm', ket[i], ket[i+1])\n",
    "        W = np.einsum('abjl,ijlm->iabm', T, A)\n",
    "        W = W.reshape(W.shape[0]*W.shape[1], -1)\n",
    "\n",
    "        U, S, Vh = np.linalg.svd(W, full_matrices=False)\n",
    "        \n",
    "        chi = len(S)\n",
    "        ket_new.append(U.reshape((-1, 2, chi)))\n",
    "        ket_new.append((np.diag(S) @ Vh).reshape(chi, 2, -1))\n",
    "    \n",
    "    if L%2 == 0:\n",
    "        ket_new.append(ket[L-1])\n",
    "        \n",
    "    return ket_new"
   ]
  },
  {
   "cell_type": "code",
   "execution_count": 388,
   "id": "744b07fd-cf59-43ae-8a65-4ef911c145a1",
   "metadata": {},
   "outputs": [],
   "source": [
    "def canonical_converter(mps_tensors):\n",
    "    '''\n",
    "        Converts the tensor into canonical form with the orthogonality center at L\n",
    "    '''\n",
    "    new_mps_tensors = mps_tensors.copy()\n",
    "    L = len(new_mps_tensors)\n",
    "\n",
    "    for i in range(L-1):\n",
    "        W = np.einsum('ijk,klm->ijlm', new_mps_tensors[i], new_mps_tensors[i+1])\n",
    "        Wmatrix = W.reshape((W.shape[0]*2, -1))\n",
    "    \n",
    "        U, S, Vh = np.linalg.svd(Wmatrix, full_matrices=False)\n",
    "        chi = len(S)\n",
    "\n",
    "        U = U[:, :chi]\n",
    "        new_mps_tensors[i] = U.reshape(-1, 2, chi)\n",
    "        \n",
    "        S = np.diag(S[:chi])\n",
    "        Vh = Vh[:chi, :]\n",
    "\n",
    "        new_mps_tensors[i+1] = (S @ Vh).reshape(chi, 2, -1)\n",
    "\n",
    "    return new_mps_tensors\n",
    "\n",
    "def bond_dimension_conserver(k, canonical_mps):\n",
    "    '''\n",
    "        given a canonical MPS it goes from left to right truncating the schmidt values to k at each step\n",
    "        it stores U, S, Vh at every cut to help speed up calculations\n",
    "        returns the values at the cuts from right to left\n",
    "    '''\n",
    "    truncated_mps = canonical_mps.copy()\n",
    "    L = len(canonical_mps)\n",
    "    canonical_tracker=[]\n",
    "    \n",
    "    for i in range(L-1, 0, -1):\n",
    "                \n",
    "        W = np.einsum('ijk,klm->ijlm', truncated_mps[i-1], truncated_mps[i])\n",
    "\n",
    "        Wmatrix = W.reshape((W.shape[0]*2, -1))\n",
    "        \n",
    "        U, S, Vh = np.linalg.svd(Wmatrix, full_matrices=False)\n",
    "        chi = min(k, len(S))\n",
    "        \n",
    "        U = U[:, :chi]\n",
    "        Vh = Vh[:chi, :]\n",
    "        \n",
    "        truncated_mps[i] = Vh.reshape(chi, 2, -1)\n",
    "        \n",
    "        truncated_mps[i-1] = (U @ np.diag(S[:chi])).reshape(-1, 2, chi)\n",
    "\n",
    "    canonical_tensors = truncated_mps.copy()\n",
    "    for i in range(L-1):\n",
    "\n",
    "        W = np.einsum('ijk,klm->ijlm', canonical_tensors[i], canonical_tensors[i+1])\n",
    "        Wmatrix = W.reshape((W.shape[0]*2, -1))\n",
    "    \n",
    "        U, S, Vh = np.linalg.svd(Wmatrix, full_matrices=False)\n",
    "        chi = min(k, len(S))\n",
    "        U = U[:, :chi]\n",
    "        Vh = Vh[:chi, :]\n",
    "        canonical_tracker.append([U.reshape(-1, 2, chi), S[:chi], Vh.reshape(chi, 2, -1)])\n",
    "        canonical_tensors[i+1] = (np.diag(S[:chi])@Vh).reshape(chi, 2, -1)\n",
    "\n",
    "\n",
    "    return truncated_mps, canonical_tracker\n",
    "    "
   ]
  },
  {
   "cell_type": "markdown",
   "id": "49619339-5fb6-45fd-9b40-0cd75f609240",
   "metadata": {},
   "source": [
    "### Since we have our MPS in canonical form, we can use it to compute the schmidt values much more efficiently."
   ]
  },
  {
   "cell_type": "code",
   "execution_count": 423,
   "id": "cf359fba-239a-4fdc-86af-dac829d9568c",
   "metadata": {},
   "outputs": [],
   "source": [
    "def magnetic_term_canonical(canonical_tracker, hx, hz):\n",
    "    \n",
    "    X = np.array([[0, 1], [1, 0]])\n",
    "    Z = np.array([[1, 0], [0, -1]])\n",
    "\n",
    "    L = len(ket)\n",
    "    results = np.zeros(L, dtype = complex)\n",
    "\n",
    "    for i in range(L-1):\n",
    "\n",
    "        U = canonical_tracker[i][0]\n",
    "        S = np.diag(canonical_tracker[i][1])\n",
    "        Ssq = np.einsum('ij,kj->ik', S.conj(), S)\n",
    "        # apply X,Z to U\n",
    "        ZU = np.einsum('ij,kjm->kim', Z, U)\n",
    "        XU = np.einsum('ij,kjm->kim', X, U)\n",
    "        # apply S^2 to U\n",
    "        ZUS = np.einsum('kim,nm->kin', ZU, Ssq)\n",
    "        XUS = np.einsum('kim,nm->kin', XU, Ssq)\n",
    "        \n",
    "        UhZUS = np.einsum('aib,kin->akbn', U.conj(), ZUS)\n",
    "        UhXUS = np.einsum('aib,kin->akbn', U.conj(), XUS)\n",
    "\n",
    "        results[i] = -hz*np.einsum('aabb', UhZUS) - hx*np.einsum('aabb', UhXUS)\n",
    "\n",
    "    Ssq = np.einsum('ij,ik->jk', S.conj(), S)\n",
    "    V = canonical_tracker[L-2][2]\n",
    "    \n",
    "    ZV = np.einsum('ij,kjm->kim', Z, V)\n",
    "    XV = np.einsum('ij,kjm->kim', X, V)\n",
    "    \n",
    "    ZVS = np.einsum('jk,kim->jim', Ssq, ZV)\n",
    "    XVS = np.einsum('jk,kim->jim', Ssq, XV)\n",
    "    \n",
    "    VhZVS = np.einsum('aib,kin->akbn', V.conj(), ZVS)\n",
    "    VhXVS = np.einsum('aib,kin->akbn', V.conj(), XVS)\n",
    "\n",
    "    results[L-1] = -hz *np.einsum('aabb', VhZVS) -hx*np.einsum('aabb', VhXVS)\n",
    "    \n",
    "    return np.sum(results)/np.sum(Ssq)\n",
    "    "
   ]
  },
  {
   "cell_type": "code",
   "execution_count": 432,
   "id": "63f3ff17-6098-4041-9a44-300fa12c9b43",
   "metadata": {},
   "outputs": [],
   "source": [
    "L = 12\n",
    "J = 1\n",
    "hx = -1.05\n",
    "hz = 0.5\n",
    "periodic = False \n",
    "\n",
    "ket = ferromagnetic_state_MPS(L)\n",
    "# print(type(ket))\n",
    "evolved_ket, canonical_tracker = time_evolution(10, J, hx, hz, ket, 16, 100)\n",
    "# psitensor = contract_mps_tensors(evolved_ket)\n",
    "# psitensor /= np.linalg.norm(psitensor)\n",
    "# print(psitensor)\n"
   ]
  },
  {
   "cell_type": "code",
   "execution_count": 368,
   "id": "df606202-1252-4fac-8264-b790cf447c5f",
   "metadata": {},
   "outputs": [
    {
     "name": "stdout",
     "output_type": "stream",
     "text": [
      "[1. 0.]\n"
     ]
    }
   ],
   "source": [
    "print(canonical_tracker[0][1])"
   ]
  },
  {
   "cell_type": "code",
   "execution_count": 313,
   "id": "bd487c39-3c3e-48bc-81e4-dec1d69e7972",
   "metadata": {},
   "outputs": [],
   "source": [
    "evolved_ket, canonical_tracker = bond_dimension_conserver(1, ket)"
   ]
  },
  {
   "cell_type": "code",
   "execution_count": 299,
   "id": "74419c1f-ee43-4f5f-989b-8b805dc8a006",
   "metadata": {},
   "outputs": [],
   "source": [
    "def magnetic_term(ket, hx, hz):\n",
    "    \n",
    "    X = np.array([[0, 1], [1, 0]])\n",
    "    Z = np.array([[1, 0], [0, -1]])\n",
    "    \n",
    "    L = len(ket)\n",
    "    results = np.zeros(L, dtype = complex)\n",
    "    \n",
    "    for i in range(L):\n",
    "        \n",
    "        Hket = [np.copy(k) for k in ket]\n",
    "    \n",
    "        Hket[i] = hx*np.einsum('ij,kjm->kim', X, ket[i]) + hz*np.einsum('ij,kjm->kim', Z, ket[i])\n",
    "        \n",
    "        results[i] = inner_product(ket, Hket)\n",
    "        \n",
    "    return np.sum(results)\n",
    "        \n",
    "\n",
    "def ising_term(ket):\n",
    "    \n",
    "    Z = np.array([[1,0],[0,-1]])\n",
    "    L = len(ket)\n",
    "    results = np.zeros(L, dtype = complex)\n",
    "    \n",
    "    for i in range(0, L-1):\n",
    "        \n",
    "        Hket = [np.copy(k) for k in ket]\n",
    "        \n",
    "        Hket[i] = np.einsum('ij,kjm->kim', Z, ket[i])\n",
    "        \n",
    "        Hket[i+1] = np.einsum('ij,kjm->kim', Z, ket[i+1])\n",
    "        \n",
    "        results[i] = inner_product(ket, Hket)\n",
    "        \n",
    "    return np.sum(results)\n",
    "\n",
    "def expectation_value_energy(ket, hx, hz, J):\n",
    "    \n",
    "    energy = -magnetic_term(ket, hx, hz)-J*ising_term(ket)\n",
    "    norm = inner_product(ket, ket)\n",
    "    return energy/norm"
   ]
  },
  {
   "cell_type": "code",
   "execution_count": 300,
   "id": "9bc2ebce-8a5f-4d4c-aef8-f509aa52f890",
   "metadata": {},
   "outputs": [],
   "source": [
    "def trotter_step(dt, J, hx, hz, ket, k):\n",
    "    \n",
    "    evolved_ket = canonical_converter(\n",
    "        twosite_odd_gate(\n",
    "            dt, J,\n",
    "            twosite_even_gate(\n",
    "                dt, J,\n",
    "                local_gate(dt, hx, hz, ket.copy())\n",
    "            )\n",
    "        )\n",
    "    )\n",
    "\n",
    "\n",
    "    return bond_dimension_conserver(k, evolved_ket)\n",
    "\n",
    "def time_evolution(T, J, hx, hz, ket, k, iters):\n",
    "    \n",
    "    dt = T/iters\n",
    "    evolved_ket = ket.copy()\n",
    "    for i in range(iters):\n",
    "        evolved_ket, schmidt_values = trotter_step(dt, J, hx, hz, evolved_ket, k)\n",
    "        \n",
    "    return evolved_ket, schmidt_values\n",
    "        \n",
    "        \n",
    "    "
   ]
  },
  {
   "cell_type": "code",
   "execution_count": 47,
   "id": "2294d6ef-1da3-4f4d-b292-ff356c92e768",
   "metadata": {},
   "outputs": [],
   "source": [
    "W = np.einsum('ijk,klm->ijlm', evolved_ket[0], evolved_ket[1])\n",
    "Wmatrix = W.reshape((W.shape[0]*2, -1))\n",
    "    \n",
    "U, S, Vh = np.linalg.svd(Wmatrix, full_matrices=False)"
   ]
  },
  {
   "cell_type": "code",
   "execution_count": null,
   "id": "682f87e8-3ce7-4bb6-8896-8a787f7b95d3",
   "metadata": {},
   "outputs": [],
   "source": [
    "chi = len(S)\n",
    "Utensor = U.reshape(-1, 2, chi)\n",
    "Unew = "
   ]
  },
  {
   "cell_type": "code",
   "execution_count": 46,
   "id": "dd5ce3fe-f1d1-490c-bed2-f3f707c55511",
   "metadata": {},
   "outputs": [
    {
     "name": "stdout",
     "output_type": "stream",
     "text": [
      "(1, 2, 2)\n",
      "(2, 2, 4)\n",
      "(4, 2, 8)\n",
      "(8, 2, 16)\n",
      "(16, 2, 16)\n",
      "(16, 2, 16)\n",
      "(16, 2, 16)\n",
      "(16, 2, 16)\n",
      "(16, 2, 8)\n",
      "(8, 2, 4)\n",
      "(4, 2, 2)\n",
      "(2, 2, 1)\n"
     ]
    }
   ],
   "source": [
    "for tensor in evolved_ket:\n",
    "    print(tensor.shape)"
   ]
  },
  {
   "cell_type": "code",
   "execution_count": 45,
   "id": "efafab6a-8dfb-412c-80b9-9c384a77101a",
   "metadata": {},
   "outputs": [
    {
     "name": "stdout",
     "output_type": "stream",
     "text": [
      "[[-19.94577804]]\n"
     ]
    }
   ],
   "source": [
    "psi_new = (scipy.linalg.expm(-10*denseH(L, J, hx, hz, False)) @ psi)\n",
    "psi_new = psi_new/np.linalg.norm(psi_new)\n",
    "\n",
    "print(psi_new.conj().T @ denseH(L, J, hx, hz, False) @ psi_new)"
   ]
  },
  {
   "cell_type": "code",
   "execution_count": 400,
   "id": "2a2361d5-bcfc-4d7a-9904-c7f00edead83",
   "metadata": {},
   "outputs": [
    {
     "name": "stdout",
     "output_type": "stream",
     "text": [
      "[[9.99995028e-01]\n",
      " [9.97997370e-04]\n",
      " [9.97000703e-04]\n",
      " ...\n",
      " [9.84450980e-28]\n",
      " [9.84778827e-28]\n",
      " [9.84134063e-31]]\n"
     ]
    }
   ],
   "source": [
    "psi_new = (scipy.linalg.expm(-0.001*denseH(12, 1, 1, 1, False)) @ psi)\n",
    "print(psi_new/np.linalg.norm(psi_new))"
   ]
  },
  {
   "cell_type": "code",
   "execution_count": 226,
   "id": "045138d6-2c5f-4ff9-9ff7-0af4a20a6d45",
   "metadata": {},
   "outputs": [
    {
     "name": "stdout",
     "output_type": "stream",
     "text": [
      "[0 0 0]\n"
     ]
    }
   ],
   "source": [
    "print(np.zeros_like([0, 1, 3]))"
   ]
  },
  {
   "cell_type": "code",
   "execution_count": null,
   "id": "2688d218-9df5-4a30-9c5e-e6fd9070e0e3",
   "metadata": {},
   "outputs": [],
   "source": [
    "tensor3 = tensors\n",
    "\n",
    "while i<100:\n",
    "    tensor1 = local_gate(0.001, hx, hz, tensor3)\n",
    "    tensor2 = twosite_even_gate(0.001, J, tensor1)\n",
    "    tensor3 = twosite_even_gate(0.001, J, tensor2)\n",
    "\n",
    "print(expectation_value_energy(tensor3, hx, hz, J))\n",
    "\n",
    "def twosite_gate(dt, J, ket):\n",
    "\n",
    "def trotter_step(dt, ket):\n",
    "\n",
    "def bond_dimension_conserver(k, ket):\n",
    "    "
   ]
  }
 ],
 "metadata": {
  "kernelspec": {
   "display_name": "Python 3 (ipykernel)",
   "language": "python",
   "name": "python3"
  },
  "language_info": {
   "codemirror_mode": {
    "name": "ipython",
    "version": 3
   },
   "file_extension": ".py",
   "mimetype": "text/x-python",
   "name": "python",
   "nbconvert_exporter": "python",
   "pygments_lexer": "ipython3",
   "version": "3.11.8"
  }
 },
 "nbformat": 4,
 "nbformat_minor": 5
}
