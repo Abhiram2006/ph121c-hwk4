{
 "cells": [
  {
   "cell_type": "code",
   "execution_count": 3,
   "id": "bd74d4ae-3dba-4608-a99d-4e949ec6ddd9",
   "metadata": {
    "tags": []
   },
   "outputs": [],
   "source": [
    "import numpy as np\n",
    "import matplotlib.pyplot as plt\n",
    "import scipy\n",
    "from tqdm import tqdm\n",
    "import time, sys, os\n",
    "\n",
    "directory = 'figures'\n",
    "if not os.path.exists(directory):\n",
    "    os.makedirs(directory)\n",
    "plt.rcParams['figure.dpi']=400"
   ]
  },
  {
   "cell_type": "markdown",
   "id": "077b8a02-ec3f-448b-958d-6e553768853d",
   "metadata": {},
   "source": [
    "# Implementation of the TEBD for a test case"
   ]
  },
  {
   "cell_type": "markdown",
   "id": "341e9af0-1551-4a4b-9c3d-495958f06585",
   "metadata": {
    "tags": []
   },
   "source": [
    "## Assignment: MPS simulations using TEBD\n",
    "\n",
    "We will again study the quantum Ising model subject to a magnetic field with both transverse and longitudinal components:\n",
    "\n",
    "$$\n",
    "H = -J \\sum_{j=1}^{L-1} \\sigma_j^z \\sigma_{j+1}^z - h^x \\sum_{j=1}^{L} \\sigma_j^x - h^z \\sum_{j=1}^{L} \\sigma_j^z .\n",
    "$$\n",
    "\n",
    "Set $ J = 1 $ and the magnetic field to $ (h^x, h^z) = (-1.05, 0.5) $, the same values as in Assignment 3, to allow you to test your MPS-based approach against exact diagonalization for small system sizes. Because we are now working with MPS, consider the system with open boundary conditions where the MPS simulations are most transparent. To specify a time-evolution procedure, this Hamiltonian can be arranged into three groups of commuting terms (i.e., commuting within each group): $ H = H_{\\text{odd}} + H_{\\text{even}} + H_{\\text{field}} $, each of which can be readily exponentiated. The groupings are:\n",
    "\n",
    "$$\n",
    "H_{\\text{odd}} = -J \\sum_{j=1,3,5,\\ldots} \\sigma_j^z \\sigma_{j+1}^z = -J (\\sigma_1^z \\sigma_2^z + \\sigma_3^z \\sigma_4^z + \\sigma_5^z \\sigma_6^z + \\cdots ) ,\n",
    "$$\n",
    "\n",
    "$$\n",
    "H_{\\text{even}} = -J \\sum_{j=2,4,6,\\ldots} \\sigma_j^z \\sigma_{j+1}^z = -J (\\sigma_2^z \\sigma_3^z + \\sigma_4^z \\sigma_5^z + \\sigma_6^z \\sigma_7^z + \\cdots ) ,\n",
    "$$\n",
    "\n",
    "$$\n",
    "H_{\\text{field}} = \\sum_{j=1}^{L} (-h^x \\sigma_j^x - h^z \\sigma_j^z) = -h^x \\sigma_1^x - h^z \\sigma_1^z - h^x \\sigma_2^x - h^z \\sigma_2^z - h^x \\sigma_3^x - h^z \\sigma_3^z - \\cdots .\n",
    "$$\n",
    "\n",
    "Clearly the terms in $ H_{\\text{odd}} $ commute, and similarly for $ H_{\\text{even}} $, so they can be exponentiated directly:\n",
    "\n",
    "$$\n",
    "e^{-itH_{\\text{odd}}} = e^{itJ\\sigma_1^z \\sigma_2^z} e^{itJ\\sigma_3^z \\sigma_4^z} e^{itJ\\sigma_5^z \\sigma_6^z} \\cdots , \\quad e^{-itH_{\\text{even}}} = e^{itJ\\sigma_2^z \\sigma_3^z} e^{itJ\\sigma_4^z \\sigma_5^z} e^{itJ\\sigma_6^z \\sigma_7^z} \\cdots .\n",
    "$$\n",
    "\n",
    "Within $ H_{\\text{field}} $, $ \\sigma_j^x $ and $ \\sigma_j^z $ do not commute on the same site. However, as these are single-site operators we can combine the terms for each $ j $ into\n",
    "\n",
    "$$\n",
    "\\omega_j \\equiv -h^x \\sigma_j^x - h^z \\sigma_j^z = \\begin{bmatrix} -h^z & -h^x \\\\ -h^x & h^z \\end{bmatrix} ,\n",
    "$$\n",
    "\n",
    "written in the $ \\sigma^z $ basis. As all of the $ \\omega_j $ commute, now $ e^{-itH_{\\text{field}}} = e^{-it\\omega_1} e^{-it\\omega_2} e^{-it\\omega_3} \\cdots $. Each $ e^{-it\\omega_j} $ can be written out using formulas for Pauli matrices, e.g., $ \\exp(i\\phi \\mathbf{n} \\cdot \\sigma) = \\cos(\\phi) + i \\sin(\\phi) \\mathbf{n} \\cdot \\sigma $ [where $ \\mathbf{n} $ is a unit vector] for real time evolution, substituting hyperbolic functions for imaginary time evolution, or by direct exponentiation of the matrix. (Incidentally, you may notice that in this case other Trotter patterns than the one presented below are possible and may be more efficient. If you'd like, you can explore some of these, but the scheme outlined above will work regardless of the details of the terms in $ H $.)\n",
    "\n",
    "### 4.1 Imaginary time evolution\n",
    "\n",
    "\"Rotate\" now to imaginary time $\\tau = it$ and perform TEBD for cooling to the ground state. It will turn out that in this case all the tensors are real-valued, but you should write your solution to also handle complex-valued tensors, for example using actual Hermitian conjugates rather than transposes; this will greatly simplify the process of going to real time evolution. However if your programming language is not strict about types, you may need to periodically cast complex values to reals in order to use specialized linear algebra routines.\n"
   ]
  },
  {
   "cell_type": "markdown",
   "id": "605924a6-3a80-44ad-9e80-79c9b36a3ab5",
   "metadata": {},
   "source": [
    "## Test wave-function"
   ]
  },
  {
   "cell_type": "code",
   "execution_count": 178,
   "id": "c89da3cb-e558-409b-843e-ab4abbb4acb7",
   "metadata": {},
   "outputs": [],
   "source": [
    "def ferromagnetic_state_MPS(L):\n",
    "    \n",
    "    # given L, returns the MPS tensors of the ferromagnetic state.\n",
    "    \n",
    "    mps_tensors= []\n",
    "    \n",
    "    A = np.zeros((1, 2, 1), dtype = complex)\n",
    "    A[0, 0, 0] = 1\n",
    "    A[0, 1, 0] = 0\n",
    "    \n",
    "    for i in range(L):\n",
    "        mps_tensors.append(A)\n",
    "\n",
    "    return mps_tensors"
   ]
  },
  {
   "cell_type": "markdown",
   "id": "989e8225-4281-497d-aea8-c906e78ead12",
   "metadata": {},
   "source": [
    "## Useful troubleshooting code"
   ]
  },
  {
   "cell_type": "code",
   "execution_count": 126,
   "id": "69782277-fe21-4fb2-92df-10d1456870bb",
   "metadata": {},
   "outputs": [],
   "source": [
    "def mps(psi, k):\n",
    "\n",
    "    # Converts a wavefunction into mps form\n",
    "    \n",
    "    mps_tensors = []\n",
    "    L = int(np.log2(len(psi)))  # Number of spins/sites\n",
    "    psi_matrix = psi.reshape(2, 2**(L-1))\n",
    "\n",
    "    for i in range(L-1):\n",
    "        \n",
    "        U, S, Vh = np.linalg.svd(psi_matrix, full_matrices=False)\n",
    "        \n",
    "        chi = min(k, len(S))\n",
    "        \n",
    "        S_truncated = S[: chi]\n",
    "        U_truncated = U[:, :chi]\n",
    "        Vh_truncated = Vh[:chi, :]\n",
    "\n",
    "        mps_tensors.append(U_truncated.reshape((-1, 2, chi)))\n",
    "\n",
    "        if i < L - 2:\n",
    "            psi_matrix = (np.diag(S_truncated) @ Vh_truncated).reshape(2*chi, -1)\n",
    "            \n",
    "        else:\n",
    "            last_tensor = (np.diag(S_truncated) @ Vh_truncated)\n",
    "            mps_tensors.append(last_tensor.reshape(chi, 2, -1))\n",
    "\n",
    "    return mps_tensors\n",
    "\n",
    "def contract_mps_tensors(mps_tensors):\n",
    "\n",
    "    # converts mps tensor form to a usual column vector wave-function.\n",
    "    \n",
    "    state = mps_tensors[0]\n",
    "    \n",
    "    for tensor in mps_tensors[1:]: \n",
    "        state = np.einsum('ijk,kln->ijln', state, tensor).reshape(1, -1, tensor.shape[2])\n",
    "        \n",
    "    return state.reshape(-1)"
   ]
  },
  {
   "cell_type": "markdown",
   "id": "98861314-b7a3-49ab-9de3-e86c4c586b24",
   "metadata": {},
   "source": [
    "## Hamiltonian"
   ]
  },
  {
   "cell_type": "code",
   "execution_count": 127,
   "id": "73198484-9296-4caf-b647-8df538a704b0",
   "metadata": {},
   "outputs": [],
   "source": [
    "def denseH(L, J, hx, hz, periodic):\n",
    "    \"\"\"\n",
    "    generates the dense Hamiltonian matrix for the quantum Ising chain with both transverse and longitudinal magnetic fields\n",
    "    \n",
    "        Parameters:\n",
    "            L (int): length of chain\n",
    "            J (float): ising interaction strength\n",
    "            h (float): magnetic field strength\n",
    "            periodic (bool): does the chain have periodic boundary conditions?\n",
    "            \n",
    "        Returns:\n",
    "            H (ndarray): 2^L x 2^L matrix representing the Hamiltonian operator\n",
    "    \"\"\"\n",
    "\n",
    "    dim=2 ** L # dimensions of the Hilbert space\n",
    "    \n",
    "    H = np.zeros((dim, dim)) # initliaze the Hamiltonian\n",
    "    \n",
    "    \"Calculation of off-diagonal elements due to the magnetic field\"\n",
    "    \n",
    "    for beta in range(dim): # iterate over all states\n",
    "        \n",
    "        for j in range(1,L+1): # iterate over all sites\n",
    "            \n",
    "            alpha = beta ^ (1<<j-1) # flips jth bit of beta to get the state alpha that is related to beta by a single bit flip\n",
    "            \n",
    "            H[alpha, beta] -= hx # contribution by sigma^j_x\n",
    "            \n",
    "    \"Calculation of diagonal elements due to Ising interaction\"\n",
    "\n",
    "    for alpha in range(dim): # iterate over all states\n",
    "        \n",
    "        for j in range(1, L): # iterate over all sites\n",
    "            \n",
    "            if 2*(alpha & (1 << j-1)) == alpha & (1 << j): # check if site j and j+1 have the same spin\n",
    "                \n",
    "                H[alpha, alpha] -= J # if they do, decrease the energy by the ising interaction term\n",
    "                \n",
    "            else:\n",
    "                \n",
    "                H[alpha, alpha] += J # if not, increase the energy by the ising interaction term\n",
    "            \n",
    "        \"Diagonal elements due to longitudinal magnetic field\"\n",
    "        \n",
    "        for j in range(1, L+1):\n",
    "            \n",
    "            if alpha & (1 << (j-1)) == 0:  # check if the spin at site j is up\n",
    "                H[alpha, alpha] -= hz  # decrease energy for spin up\n",
    "                \n",
    "            else:\n",
    "                H[alpha, alpha] += hz  # increase energy for spin down\n",
    "\n",
    "        \n",
    "        \"Handling case of periodic boundary conditions\"\n",
    "                \n",
    "        if periodic and L > 1: # L > 1 needed for periodicity to mean anything\n",
    "            \n",
    "            if (alpha & (1 << L-1)) == ((alpha & (1 << 0))*(2**(L-1))): # Check if the states at either end have the same spin\n",
    "                \n",
    "                H[alpha, alpha] -= J # if they do, decrease the energy by the ising interaction term\n",
    "                \n",
    "            else:\n",
    "                \n",
    "                H[alpha, alpha] += J # if not, increase the energy by the ising interaction term\n",
    "                \n",
    "    return H   "
   ]
  },
  {
   "cell_type": "markdown",
   "id": "fbd7c71e-d4bf-401a-8536-e4745b85f326",
   "metadata": {},
   "source": [
    "## Inner product of MPS"
   ]
  },
  {
   "cell_type": "code",
   "execution_count": 138,
   "id": "f0c7011e-7cf5-4165-9a50-70a3de1b68ff",
   "metadata": {},
   "outputs": [],
   "source": [
    "def inner_product(bra, ket):\n",
    "\n",
    "    # function to output <psi|psi> when given in MPS form \n",
    "    \n",
    "    result = np.einsum('jkl,mkn->ln', bra[0].conj(), ket[0])\n",
    "    \n",
    "    for i in range(1, len(ket)):\n",
    "\n",
    "        A = np.einsum('jkl,mkn->jmln', bra[i].conj(), ket[i])\n",
    "        result = np.einsum('jm,jmln->ln', result, A)\n",
    "    \n",
    "    return result.reshape(-1)[0]"
   ]
  },
  {
   "cell_type": "markdown",
   "id": "6b7e648f-8667-4f9a-b2c2-2a43cbc92836",
   "metadata": {},
   "source": [
    "## Function to calculate expectation value of Energy in MPS"
   ]
  },
  {
   "cell_type": "code",
   "execution_count": 169,
   "id": "f8b65adc-bcae-4627-a2b7-efbc9cdb9518",
   "metadata": {},
   "outputs": [],
   "source": [
    "def magnetic_term(ket, hx, hz):\n",
    "    \n",
    "    X = np.array([[0, 1], [1, 0]])\n",
    "    Z = np.array([[1, 0], [0, -1]])\n",
    "    \n",
    "    L = len(ket)\n",
    "    results = np.zeros(L, dtype = complex)\n",
    "    \n",
    "    for i in range(L):\n",
    "        \n",
    "        Hket = [np.copy(k) for k in ket]\n",
    "    \n",
    "        Hket[i] = hx*np.einsum('ij,kjm->kim', X, ket[i]) + hz*np.einsum('ij,kjm->kim', Z, ket[i])\n",
    "        \n",
    "        results[i] = inner_product(ket, Hket)\n",
    "        \n",
    "    return np.sum(results)\n",
    "        \n",
    "\n",
    "def ising_term(ket):\n",
    "    \n",
    "    Z = np.array([[1,0],[0,-1]])\n",
    "    L = len(ket)\n",
    "    results = np.zeros(L, dtype = complex)\n",
    "    \n",
    "    for i in range(0, L-1):\n",
    "        \n",
    "        Hket = [np.copy(k) for k in ket]\n",
    "        \n",
    "        Hket[i] = np.einsum('ij,kjm->kim', Z, ket[i])\n",
    "        \n",
    "        Hket[i+1] = np.einsum('ij,kjm->kim', Z, ket[i+1])\n",
    "        \n",
    "        results[i] = inner_product(ket, Hket)\n",
    "        \n",
    "    return np.sum(results)\n",
    "\n",
    "def expectation_value_energy(ket, hx, hz):\n",
    "    \n",
    "    energy = -magnetic_term(ket, hx, hz)-J*ising_term(ket)\n",
    "    norm = inner_product(ket, ket)\n",
    "    \n",
    "    return energy/norm"
   ]
  },
  {
   "cell_type": "code",
   "execution_count": 200,
   "id": "92be00ee-7f23-4429-ae81-ce1a4833086b",
   "metadata": {},
   "outputs": [
    {
     "name": "stdout",
     "output_type": "stream",
     "text": [
      "(-17+0j)\n"
     ]
    }
   ],
   "source": [
    "L = 12\n",
    "psi0 = np.array([[1], [0]])\n",
    "psi = psi0\n",
    "for i in range(L-1):\n",
    "    psi = np.kron(psi, psi0)\n",
    "\n",
    "print(expectation_value_energy(mps(psi, 1), -1.05, 0.5))"
   ]
  },
  {
   "cell_type": "code",
   "execution_count": 196,
   "id": "5c94bfa8-fb93-47b4-982b-41d662fbdc59",
   "metadata": {},
   "outputs": [
    {
     "name": "stdout",
     "output_type": "stream",
     "text": [
      "Energy of ground state:  -19.945778039039247\n",
      "Energy of the trial state:  (-17+0j)\n"
     ]
    }
   ],
   "source": [
    "L = 12\n",
    "J = 1\n",
    "hx = -1.05\n",
    "hz = 0.5\n",
    "periodic = False \n",
    "\n",
    "tensors = ferromagnetic_state_MPS(L)\n",
    "H = denseH(L, J, hx, hz, periodic)\n",
    "eigs, vecs = scipy.linalg.eigh(H)\n",
    "\n",
    "print('Energy of ground state: ', eigs[0])\n",
    "print('Energy of the trial state: ', expectation_value_energy(tensors, hx, hz))"
   ]
  },
  {
   "cell_type": "code",
   "execution_count": 198,
   "id": "a526f3b8-8e27-45d5-b7be-6a911bec8c05",
   "metadata": {},
   "outputs": [
    {
     "data": {
      "text/plain": [
       "array([3.95889287e+06+0.j, 1.52741449e+06+0.j, 1.52741449e+06+0.j, ...,\n",
       "       1.11631940e+02+0.j, 1.11631940e+02+0.j, 4.30696782e+01+0.j])"
      ]
     },
     "execution_count": 198,
     "metadata": {},
     "output_type": "execute_result"
    }
   ],
   "source": [
    "def local_gate(dt, hx, hz, ket):\n",
    "\n",
    "    L = len(ket)\n",
    "\n",
    "    w = np.array([[-hz, -hx], [-hx, hz]])\n",
    "    R = scipy.linalg.expm(-dt*w)\n",
    "\n",
    "    ket_new = np.zeros_like(ket)\n",
    "    \n",
    "    for i in range(L):\n",
    "   \n",
    "        ket_new[i] = np.einsum('ij,kjm->kim', R, ket[i])\n",
    "\n",
    "    return ket_new\n",
    "\n",
    "# def twosite_gate(dt, J, ket):\n",
    "\n",
    "    \n",
    "contract_mps_tensors(local_gate(1, 1, 1, tensors))"
   ]
  },
  {
   "cell_type": "code",
   "execution_count": 201,
   "id": "2a2361d5-bcfc-4d7a-9904-c7f00edead83",
   "metadata": {},
   "outputs": [
    {
     "data": {
      "text/plain": [
       "array([[ 2.29864961e+08],\n",
       "       [-7.30581184e+07],\n",
       "       [-4.91281558e+07],\n",
       "       ...,\n",
       "       [-3.34651987e+03],\n",
       "       [-3.93979666e+03],\n",
       "       [ 2.51557811e+03]])"
      ]
     },
     "execution_count": 201,
     "metadata": {},
     "output_type": "execute_result"
    }
   ],
   "source": [
    "scipy.linalg.expm(-1*H) @ psi"
   ]
  },
  {
   "cell_type": "code",
   "execution_count": 72,
   "id": "045138d6-2c5f-4ff9-9ff7-0af4a20a6d45",
   "metadata": {},
   "outputs": [
    {
     "name": "stdout",
     "output_type": "stream",
     "text": [
      "[0 0 0]\n"
     ]
    }
   ],
   "source": [
    "print(np.zeros_like([0, 1, 3]))"
   ]
  },
  {
   "cell_type": "code",
   "execution_count": null,
   "id": "2688d218-9df5-4a30-9c5e-e6fd9070e0e3",
   "metadata": {},
   "outputs": [],
   "source": [
    "\n",
    "\n",
    "def twosite_gate(dt, J, ket):\n",
    "\n",
    "def trotter_step(dt, ket):\n",
    "\n",
    "def bond_dimension_conserver(k, ket):\n",
    "    "
   ]
  }
 ],
 "metadata": {
  "kernelspec": {
   "display_name": "Python 3 (ipykernel)",
   "language": "python",
   "name": "python3"
  },
  "language_info": {
   "codemirror_mode": {
    "name": "ipython",
    "version": 3
   },
   "file_extension": ".py",
   "mimetype": "text/x-python",
   "name": "python",
   "nbconvert_exporter": "python",
   "pygments_lexer": "ipython3",
   "version": "3.11.8"
  }
 },
 "nbformat": 4,
 "nbformat_minor": 5
}
