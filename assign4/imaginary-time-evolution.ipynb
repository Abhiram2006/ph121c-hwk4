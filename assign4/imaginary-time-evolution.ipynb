{
 "cells": [
  {
   "cell_type": "code",
   "execution_count": 3,
   "id": "bd74d4ae-3dba-4608-a99d-4e949ec6ddd9",
   "metadata": {
    "tags": []
   },
   "outputs": [],
   "source": [
    "import numpy as np\n",
    "import matplotlib.pyplot as plt\n",
    "import scipy\n",
    "from tqdm import tqdm\n",
    "import time, sys, os\n",
    "\n",
    "directory = 'figures'\n",
    "if not os.path.exists(directory):\n",
    "    os.makedirs(directory)\n",
    "plt.rcParams['figure.dpi']=400"
   ]
  },
  {
   "cell_type": "markdown",
   "id": "077b8a02-ec3f-448b-958d-6e553768853d",
   "metadata": {},
   "source": [
    "# Implementation of the TEBD for a test case"
   ]
  },
  {
   "cell_type": "markdown",
   "id": "341e9af0-1551-4a4b-9c3d-495958f06585",
   "metadata": {
    "tags": []
   },
   "source": [
    "## Assignment: MPS simulations using TEBD\n",
    "\n",
    "We will again study the quantum Ising model subject to a magnetic field with both transverse and longitudinal components:\n",
    "\n",
    "$$\n",
    "H = -J \\sum_{j=1}^{L-1} \\sigma_j^z \\sigma_{j+1}^z - h^x \\sum_{j=1}^{L} \\sigma_j^x - h^z \\sum_{j=1}^{L} \\sigma_j^z .\n",
    "$$\n",
    "\n",
    "Set $ J = 1 $ and the magnetic field to $ (h^x, h^z) = (-1.05, 0.5) $, the same values as in Assignment 3, to allow you to test your MPS-based approach against exact diagonalization for small system sizes. Because we are now working with MPS, consider the system with open boundary conditions where the MPS simulations are most transparent. To specify a time-evolution procedure, this Hamiltonian can be arranged into three groups of commuting terms (i.e., commuting within each group): $ H = H_{\\text{odd}} + H_{\\text{even}} + H_{\\text{field}} $, each of which can be readily exponentiated. The groupings are:\n",
    "\n",
    "$$\n",
    "H_{\\text{odd}} = -J \\sum_{j=1,3,5,\\ldots} \\sigma_j^z \\sigma_{j+1}^z = -J (\\sigma_1^z \\sigma_2^z + \\sigma_3^z \\sigma_4^z + \\sigma_5^z \\sigma_6^z + \\cdots ) ,\n",
    "$$\n",
    "\n",
    "$$\n",
    "H_{\\text{even}} = -J \\sum_{j=2,4,6,\\ldots} \\sigma_j^z \\sigma_{j+1}^z = -J (\\sigma_2^z \\sigma_3^z + \\sigma_4^z \\sigma_5^z + \\sigma_6^z \\sigma_7^z + \\cdots ) ,\n",
    "$$\n",
    "\n",
    "$$\n",
    "H_{\\text{field}} = \\sum_{j=1}^{L} (-h^x \\sigma_j^x - h^z \\sigma_j^z) = -h^x \\sigma_1^x - h^z \\sigma_1^z - h^x \\sigma_2^x - h^z \\sigma_2^z - h^x \\sigma_3^x - h^z \\sigma_3^z - \\cdots .\n",
    "$$\n",
    "\n",
    "Clearly the terms in $ H_{\\text{odd}} $ commute, and similarly for $ H_{\\text{even}} $, so they can be exponentiated directly:\n",
    "\n",
    "$$\n",
    "e^{-itH_{\\text{odd}}} = e^{itJ\\sigma_1^z \\sigma_2^z} e^{itJ\\sigma_3^z \\sigma_4^z} e^{itJ\\sigma_5^z \\sigma_6^z} \\cdots , \\quad e^{-itH_{\\text{even}}} = e^{itJ\\sigma_2^z \\sigma_3^z} e^{itJ\\sigma_4^z \\sigma_5^z} e^{itJ\\sigma_6^z \\sigma_7^z} \\cdots .\n",
    "$$\n",
    "\n",
    "Within $ H_{\\text{field}} $, $ \\sigma_j^x $ and $ \\sigma_j^z $ do not commute on the same site. However, as these are single-site operators we can combine the terms for each $ j $ into\n",
    "\n",
    "$$\n",
    "\\omega_j \\equiv -h^x \\sigma_j^x - h^z \\sigma_j^z = \\begin{bmatrix} -h^z & -h^x \\\\ -h^x & h^z \\end{bmatrix} ,\n",
    "$$\n",
    "\n",
    "written in the $ \\sigma^z $ basis. As all of the $ \\omega_j $ commute, now $ e^{-itH_{\\text{field}}} = e^{-it\\omega_1} e^{-it\\omega_2} e^{-it\\omega_3} \\cdots $. Each $ e^{-it\\omega_j} $ can be written out using formulas for Pauli matrices, e.g., $ \\exp(i\\phi \\mathbf{n} \\cdot \\sigma) = \\cos(\\phi) + i \\sin(\\phi) \\mathbf{n} \\cdot \\sigma $ [where $ \\mathbf{n} $ is a unit vector] for real time evolution, substituting hyperbolic functions for imaginary time evolution, or by direct exponentiation of the matrix. (Incidentally, you may notice that in this case other Trotter patterns than the one presented below are possible and may be more efficient. If you'd like, you can explore some of these, but the scheme outlined above will work regardless of the details of the terms in $ H $.)\n",
    "\n",
    "### 4.1 Imaginary time evolution\n",
    "\n",
    "\"Rotate\" now to imaginary time $\\tau = it$ and perform TEBD for cooling to the ground state. It will turn out that in this case all the tensors are real-valued, but you should write your solution to also handle complex-valued tensors, for example using actual Hermitian conjugates rather than transposes; this will greatly simplify the process of going to real time evolution. However if your programming language is not strict about types, you may need to periodically cast complex values to reals in order to use specialized linear algebra routines.\n"
   ]
  },
  {
   "cell_type": "markdown",
   "id": "605924a6-3a80-44ad-9e80-79c9b36a3ab5",
   "metadata": {},
   "source": [
    "## Test wave-function"
   ]
  },
  {
   "cell_type": "code",
   "execution_count": 178,
   "id": "c89da3cb-e558-409b-843e-ab4abbb4acb7",
   "metadata": {},
   "outputs": [],
   "source": [
    "def ferromagnetic_state_MPS(L):\n",
    "    \n",
    "    # given L, returns the MPS tensors of the ferromagnetic state.\n",
    "    \n",
    "    mps_tensors= []\n",
    "    \n",
    "    A = np.zeros((1, 2, 1), dtype = complex)\n",
    "    A[0, 0, 0] = 1\n",
    "    A[0, 1, 0] = 0\n",
    "    \n",
    "    for i in range(L):\n",
    "        mps_tensors.append(A)\n",
    "\n",
    "    return mps_tensors"
   ]
  },
  {
   "cell_type": "markdown",
   "id": "989e8225-4281-497d-aea8-c906e78ead12",
   "metadata": {},
   "source": [
    "## Useful troubleshooting code"
   ]
  },
  {
   "cell_type": "code",
   "execution_count": 388,
   "id": "69782277-fe21-4fb2-92df-10d1456870bb",
   "metadata": {},
   "outputs": [],
   "source": [
    "def mps(psi, k):\n",
    "\n",
    "    # Converts a wavefunction into mps form\n",
    "    \n",
    "    mps_tensors = []\n",
    "    L = int(np.log2(len(psi)))  # Number of spins/sites\n",
    "    psi_matrix = psi.reshape(2, 2**(L-1))\n",
    "\n",
    "    for i in range(L-1):\n",
    "        \n",
    "        U, S, Vh = np.linalg.svd(psi_matrix, full_matrices=False)\n",
    "        \n",
    "        chi = min(k, len(S))\n",
    "        \n",
    "        S_truncated = S[: chi]\n",
    "        U_truncated = U[:, :chi]\n",
    "        Vh_truncated = Vh[:chi, :]\n",
    "\n",
    "        mps_tensors.append(U_truncated.reshape((-1, 2, chi)))\n",
    "\n",
    "        if i < L - 2:\n",
    "            psi_matrix = (np.diag(S_truncated) @ Vh_truncated).reshape(2*chi, -1)\n",
    "            \n",
    "        else:\n",
    "            last_tensor = (np.diag(S_truncated) @ Vh_truncated)\n",
    "            mps_tensors.append(last_tensor.reshape(chi, 2, -1))\n",
    "\n",
    "    return mps_tensors\n",
    "\n",
    "def contract_mps_tensors(mps_tensors):\n",
    "\n",
    "    # converts mps tensor form to a usual column vector wave-function.\n",
    "    \n",
    "    state = mps_tensors[0]\n",
    "    print(state.shape)\n",
    "    for tensor in mps_tensors[1:]: \n",
    "        state = np.einsum('ijk,kln->ijln', state, tensor).reshape(1, -1, tensor.shape[2])\n",
    "        print(state.shape)\n",
    "    state = state.reshape(-1)\n",
    "    print(state.shape)\n",
    "    return state"
   ]
  },
  {
   "cell_type": "markdown",
   "id": "98861314-b7a3-49ab-9de3-e86c4c586b24",
   "metadata": {},
   "source": [
    "## Hamiltonian"
   ]
  },
  {
   "cell_type": "code",
   "execution_count": 127,
   "id": "73198484-9296-4caf-b647-8df538a704b0",
   "metadata": {},
   "outputs": [],
   "source": [
    "def denseH(L, J, hx, hz, periodic):\n",
    "    \"\"\"\n",
    "    generates the dense Hamiltonian matrix for the quantum Ising chain with both transverse and longitudinal magnetic fields\n",
    "    \n",
    "        Parameters:\n",
    "            L (int): length of chain\n",
    "            J (float): ising interaction strength\n",
    "            h (float): magnetic field strength\n",
    "            periodic (bool): does the chain have periodic boundary conditions?\n",
    "            \n",
    "        Returns:\n",
    "            H (ndarray): 2^L x 2^L matrix representing the Hamiltonian operator\n",
    "    \"\"\"\n",
    "\n",
    "    dim=2 ** L # dimensions of the Hilbert space\n",
    "    \n",
    "    H = np.zeros((dim, dim)) # initliaze the Hamiltonian\n",
    "    \n",
    "    \"Calculation of off-diagonal elements due to the magnetic field\"\n",
    "    \n",
    "    for beta in range(dim): # iterate over all states\n",
    "        \n",
    "        for j in range(1,L+1): # iterate over all sites\n",
    "            \n",
    "            alpha = beta ^ (1<<j-1) # flips jth bit of beta to get the state alpha that is related to beta by a single bit flip\n",
    "            \n",
    "            H[alpha, beta] -= hx # contribution by sigma^j_x\n",
    "            \n",
    "    \"Calculation of diagonal elements due to Ising interaction\"\n",
    "\n",
    "    for alpha in range(dim): # iterate over all states\n",
    "        \n",
    "        for j in range(1, L): # iterate over all sites\n",
    "            \n",
    "            if 2*(alpha & (1 << j-1)) == alpha & (1 << j): # check if site j and j+1 have the same spin\n",
    "                \n",
    "                H[alpha, alpha] -= J # if they do, decrease the energy by the ising interaction term\n",
    "                \n",
    "            else:\n",
    "                \n",
    "                H[alpha, alpha] += J # if not, increase the energy by the ising interaction term\n",
    "            \n",
    "        \"Diagonal elements due to longitudinal magnetic field\"\n",
    "        \n",
    "        for j in range(1, L+1):\n",
    "            \n",
    "            if alpha & (1 << (j-1)) == 0:  # check if the spin at site j is up\n",
    "                H[alpha, alpha] -= hz  # decrease energy for spin up\n",
    "                \n",
    "            else:\n",
    "                H[alpha, alpha] += hz  # increase energy for spin down\n",
    "\n",
    "        \n",
    "        \"Handling case of periodic boundary conditions\"\n",
    "                \n",
    "        if periodic and L > 1: # L > 1 needed for periodicity to mean anything\n",
    "            \n",
    "            if (alpha & (1 << L-1)) == ((alpha & (1 << 0))*(2**(L-1))): # Check if the states at either end have the same spin\n",
    "                \n",
    "                H[alpha, alpha] -= J # if they do, decrease the energy by the ising interaction term\n",
    "                \n",
    "            else:\n",
    "                \n",
    "                H[alpha, alpha] += J # if not, increase the energy by the ising interaction term\n",
    "                \n",
    "    return H   "
   ]
  },
  {
   "cell_type": "markdown",
   "id": "fbd7c71e-d4bf-401a-8536-e4745b85f326",
   "metadata": {},
   "source": [
    "## Inner product of MPS"
   ]
  },
  {
   "cell_type": "code",
   "execution_count": 138,
   "id": "f0c7011e-7cf5-4165-9a50-70a3de1b68ff",
   "metadata": {},
   "outputs": [],
   "source": [
    "def inner_product(bra, ket):\n",
    "\n",
    "    # function to output <psi|psi> when given in MPS form \n",
    "    \n",
    "    result = np.einsum('jkl,mkn->ln', bra[0].conj(), ket[0])\n",
    "    \n",
    "    for i in range(1, len(ket)):\n",
    "\n",
    "        A = np.einsum('jkl,mkn->jmln', bra[i].conj(), ket[i])\n",
    "        result = np.einsum('jm,jmln->ln', result, A)\n",
    "    \n",
    "    return result.reshape(-1)[0]"
   ]
  },
  {
   "cell_type": "markdown",
   "id": "6b7e648f-8667-4f9a-b2c2-2a43cbc92836",
   "metadata": {},
   "source": [
    "## Function to calculate expectation value of Energy in MPS"
   ]
  },
  {
   "cell_type": "code",
   "execution_count": 401,
   "id": "f8b65adc-bcae-4627-a2b7-efbc9cdb9518",
   "metadata": {},
   "outputs": [],
   "source": [
    "def magnetic_term(ket, hx, hz):\n",
    "    \n",
    "    X = np.array([[0, 1], [1, 0]])\n",
    "    Z = np.array([[1, 0], [0, -1]])\n",
    "    \n",
    "    L = len(ket)\n",
    "    results = np.zeros(L, dtype = complex)\n",
    "    \n",
    "    for i in range(L):\n",
    "        \n",
    "        Hket = [np.copy(k) for k in ket]\n",
    "    \n",
    "        Hket[i] = hx*np.einsum('ij,kjm->kim', X, ket[i]) + hz*np.einsum('ij,kjm->kim', Z, ket[i])\n",
    "        \n",
    "        results[i] = inner_product(ket, Hket)\n",
    "        \n",
    "    return np.sum(results)\n",
    "        \n",
    "\n",
    "def ising_term(ket):\n",
    "    \n",
    "    Z = np.array([[1,0],[0,-1]])\n",
    "    L = len(ket)\n",
    "    results = np.zeros(L, dtype = complex)\n",
    "    \n",
    "    for i in range(0, L-1):\n",
    "        \n",
    "        Hket = [np.copy(k) for k in ket]\n",
    "        \n",
    "        Hket[i] = np.einsum('ij,kjm->kim', Z, ket[i])\n",
    "        \n",
    "        Hket[i+1] = np.einsum('ij,kjm->kim', Z, ket[i+1])\n",
    "        \n",
    "        results[i] = inner_product(ket, Hket)\n",
    "        \n",
    "    return np.sum(results)\n",
    "\n",
    "def expectation_value_energy(ket, hx, hz, J):\n",
    "    \n",
    "    energy = -magnetic_term(ket, hx, hz)-J*ising_term(ket)\n",
    "    norm = inner_product(ket, ket)\n",
    "    \n",
    "    return energy/norm"
   ]
  },
  {
   "cell_type": "code",
   "execution_count": 402,
   "id": "92be00ee-7f23-4429-ae81-ce1a4833086b",
   "metadata": {},
   "outputs": [
    {
     "name": "stdout",
     "output_type": "stream",
     "text": [
      "(-14+0j)\n"
     ]
    }
   ],
   "source": [
    "L = 10\n",
    "psi0 = np.array([[1], [0]])\n",
    "psi = psi0\n",
    "for i in range(L-1):\n",
    "    psi = np.kron(psi, psi0)\n",
    "\n",
    "print(expectation_value_energy(mps(psi, 1), -1.05, 0.5, 1))"
   ]
  },
  {
   "cell_type": "code",
   "execution_count": 406,
   "id": "5c94bfa8-fb93-47b4-982b-41d662fbdc59",
   "metadata": {},
   "outputs": [
    {
     "name": "stdout",
     "output_type": "stream",
     "text": [
      "Energy of ground state:  -19.945778039039247\n"
     ]
    },
    {
     "ename": "KeyboardInterrupt",
     "evalue": "",
     "output_type": "error",
     "traceback": [
      "\u001b[1;31m---------------------------------------------------------------------------\u001b[0m",
      "\u001b[1;31mKeyboardInterrupt\u001b[0m                         Traceback (most recent call last)",
      "Cell \u001b[1;32mIn[406], line 12\u001b[0m\n\u001b[0;32m      9\u001b[0m eigs, vecs \u001b[38;5;241m=\u001b[39m scipy\u001b[38;5;241m.\u001b[39mlinalg\u001b[38;5;241m.\u001b[39meigh(H)\n\u001b[0;32m     11\u001b[0m \u001b[38;5;28mprint\u001b[39m(\u001b[38;5;124m'\u001b[39m\u001b[38;5;124mEnergy of ground state: \u001b[39m\u001b[38;5;124m'\u001b[39m, eigs[\u001b[38;5;241m0\u001b[39m])\n\u001b[1;32m---> 12\u001b[0m \u001b[38;5;28mprint\u001b[39m(\u001b[38;5;124m'\u001b[39m\u001b[38;5;124mEnergy of the trial state: \u001b[39m\u001b[38;5;124m'\u001b[39m, \u001b[43mexpectation_value_energy\u001b[49m\u001b[43m(\u001b[49m\u001b[43mtensors\u001b[49m\u001b[43m,\u001b[49m\u001b[43m \u001b[49m\u001b[43mhx\u001b[49m\u001b[43m,\u001b[49m\u001b[43m \u001b[49m\u001b[43mhz\u001b[49m\u001b[43m,\u001b[49m\u001b[43m \u001b[49m\u001b[43mJ\u001b[49m\u001b[43m)\u001b[49m)\n",
      "Cell \u001b[1;32mIn[401], line 40\u001b[0m, in \u001b[0;36mexpectation_value_energy\u001b[1;34m(ket, hx, hz, J)\u001b[0m\n\u001b[0;32m     38\u001b[0m \u001b[38;5;28;01mdef\u001b[39;00m \u001b[38;5;21mexpectation_value_energy\u001b[39m(ket, hx, hz, J):\n\u001b[1;32m---> 40\u001b[0m     energy \u001b[38;5;241m=\u001b[39m \u001b[38;5;241m-\u001b[39m\u001b[43mmagnetic_term\u001b[49m\u001b[43m(\u001b[49m\u001b[43mket\u001b[49m\u001b[43m,\u001b[49m\u001b[43m \u001b[49m\u001b[43mhx\u001b[49m\u001b[43m,\u001b[49m\u001b[43m \u001b[49m\u001b[43mhz\u001b[49m\u001b[43m)\u001b[49m\u001b[38;5;241m-\u001b[39mJ\u001b[38;5;241m*\u001b[39mising_term(ket)\n\u001b[0;32m     41\u001b[0m     norm \u001b[38;5;241m=\u001b[39m inner_product(ket, ket)\n\u001b[0;32m     43\u001b[0m     \u001b[38;5;28;01mreturn\u001b[39;00m energy\u001b[38;5;241m/\u001b[39mnorm\n",
      "Cell \u001b[1;32mIn[401], line 11\u001b[0m, in \u001b[0;36mmagnetic_term\u001b[1;34m(ket, hx, hz)\u001b[0m\n\u001b[0;32m      7\u001b[0m results \u001b[38;5;241m=\u001b[39m np\u001b[38;5;241m.\u001b[39mzeros(L, dtype \u001b[38;5;241m=\u001b[39m \u001b[38;5;28mcomplex\u001b[39m)\n\u001b[0;32m      9\u001b[0m \u001b[38;5;28;01mfor\u001b[39;00m i \u001b[38;5;129;01min\u001b[39;00m \u001b[38;5;28mrange\u001b[39m(L):\n\u001b[1;32m---> 11\u001b[0m     Hket \u001b[38;5;241m=\u001b[39m \u001b[43m[\u001b[49m\u001b[43mnp\u001b[49m\u001b[38;5;241;43m.\u001b[39;49m\u001b[43mcopy\u001b[49m\u001b[43m(\u001b[49m\u001b[43mk\u001b[49m\u001b[43m)\u001b[49m\u001b[43m \u001b[49m\u001b[38;5;28;43;01mfor\u001b[39;49;00m\u001b[43m \u001b[49m\u001b[43mk\u001b[49m\u001b[43m \u001b[49m\u001b[38;5;129;43;01min\u001b[39;49;00m\u001b[43m \u001b[49m\u001b[43mket\u001b[49m\u001b[43m]\u001b[49m\n\u001b[0;32m     13\u001b[0m     Hket[i] \u001b[38;5;241m=\u001b[39m hx\u001b[38;5;241m*\u001b[39mnp\u001b[38;5;241m.\u001b[39meinsum(\u001b[38;5;124m'\u001b[39m\u001b[38;5;124mij,kjm->kim\u001b[39m\u001b[38;5;124m'\u001b[39m, X, ket[i]) \u001b[38;5;241m+\u001b[39m hz\u001b[38;5;241m*\u001b[39mnp\u001b[38;5;241m.\u001b[39meinsum(\u001b[38;5;124m'\u001b[39m\u001b[38;5;124mij,kjm->kim\u001b[39m\u001b[38;5;124m'\u001b[39m, Z, ket[i])\n\u001b[0;32m     15\u001b[0m     results[i] \u001b[38;5;241m=\u001b[39m inner_product(ket, Hket)\n",
      "Cell \u001b[1;32mIn[401], line 11\u001b[0m, in \u001b[0;36m<listcomp>\u001b[1;34m(.0)\u001b[0m\n\u001b[0;32m      7\u001b[0m results \u001b[38;5;241m=\u001b[39m np\u001b[38;5;241m.\u001b[39mzeros(L, dtype \u001b[38;5;241m=\u001b[39m \u001b[38;5;28mcomplex\u001b[39m)\n\u001b[0;32m      9\u001b[0m \u001b[38;5;28;01mfor\u001b[39;00m i \u001b[38;5;129;01min\u001b[39;00m \u001b[38;5;28mrange\u001b[39m(L):\n\u001b[1;32m---> 11\u001b[0m     Hket \u001b[38;5;241m=\u001b[39m [\u001b[43mnp\u001b[49m\u001b[38;5;241;43m.\u001b[39;49m\u001b[43mcopy\u001b[49m\u001b[43m(\u001b[49m\u001b[43mk\u001b[49m\u001b[43m)\u001b[49m \u001b[38;5;28;01mfor\u001b[39;00m k \u001b[38;5;129;01min\u001b[39;00m ket]\n\u001b[0;32m     13\u001b[0m     Hket[i] \u001b[38;5;241m=\u001b[39m hx\u001b[38;5;241m*\u001b[39mnp\u001b[38;5;241m.\u001b[39meinsum(\u001b[38;5;124m'\u001b[39m\u001b[38;5;124mij,kjm->kim\u001b[39m\u001b[38;5;124m'\u001b[39m, X, ket[i]) \u001b[38;5;241m+\u001b[39m hz\u001b[38;5;241m*\u001b[39mnp\u001b[38;5;241m.\u001b[39meinsum(\u001b[38;5;124m'\u001b[39m\u001b[38;5;124mij,kjm->kim\u001b[39m\u001b[38;5;124m'\u001b[39m, Z, ket[i])\n\u001b[0;32m     15\u001b[0m     results[i] \u001b[38;5;241m=\u001b[39m inner_product(ket, Hket)\n",
      "File \u001b[1;32m~\\anaconda3\\Lib\\site-packages\\numpy\\lib\\function_base.py:962\u001b[0m, in \u001b[0;36mcopy\u001b[1;34m(a, order, subok)\u001b[0m\n\u001b[0;32m    873\u001b[0m \u001b[38;5;129m@array_function_dispatch\u001b[39m(_copy_dispatcher)\n\u001b[0;32m    874\u001b[0m \u001b[38;5;28;01mdef\u001b[39;00m \u001b[38;5;21mcopy\u001b[39m(a, order\u001b[38;5;241m=\u001b[39m\u001b[38;5;124m'\u001b[39m\u001b[38;5;124mK\u001b[39m\u001b[38;5;124m'\u001b[39m, subok\u001b[38;5;241m=\u001b[39m\u001b[38;5;28;01mFalse\u001b[39;00m):\n\u001b[0;32m    875\u001b[0m \u001b[38;5;250m    \u001b[39m\u001b[38;5;124;03m\"\"\"\u001b[39;00m\n\u001b[0;32m    876\u001b[0m \u001b[38;5;124;03m    Return an array copy of the given object.\u001b[39;00m\n\u001b[0;32m    877\u001b[0m \n\u001b[1;32m   (...)\u001b[0m\n\u001b[0;32m    960\u001b[0m \n\u001b[0;32m    961\u001b[0m \u001b[38;5;124;03m    \"\"\"\u001b[39;00m\n\u001b[1;32m--> 962\u001b[0m     \u001b[38;5;28;01mreturn\u001b[39;00m array(a, order\u001b[38;5;241m=\u001b[39morder, subok\u001b[38;5;241m=\u001b[39msubok, copy\u001b[38;5;241m=\u001b[39m\u001b[38;5;28;01mTrue\u001b[39;00m)\n",
      "\u001b[1;31mKeyboardInterrupt\u001b[0m: "
     ]
    }
   ],
   "source": [
    "L = 12\n",
    "J = 1\n",
    "hx = -1.05\n",
    "hz = 0.5\n",
    "periodic = False \n",
    "\n",
    "tensors = ferromagnetic_state_MPS(L)\n",
    "H = denseH(L, J, hx, hz, periodic)\n",
    "eigs, vecs = scipy.linalg.eigh(H)\n",
    "\n",
    "print('Energy of ground state: ', eigs[0])\n",
    "print('Energy of the trial state: ', expectation_value_energy(tensors, hx, hz, J))"
   ]
  },
  {
   "cell_type": "code",
   "execution_count": 395,
   "id": "1da9b0f8-8c53-4ab5-bbf3-d32112876040",
   "metadata": {},
   "outputs": [],
   "source": [
    "def local_gate(dt, hx, hz, ket):\n",
    "\n",
    "    L = len(ket)\n",
    "\n",
    "    w = np.array([[-hz, -hx], [-hx, hz]])\n",
    "    R = scipy.linalg.expm(-dt*w)\n",
    "\n",
    "    ket_new = []\n",
    "    \n",
    "    for i in range(L):\n",
    "        ket_new.append(np.einsum('ij,kjm->kim', R, ket[i]))\n",
    "\n",
    "    return ket_new\n",
    "\n",
    "def twosite_even_gate(dt, J, ket):\n",
    "\n",
    "    L = len(ket)\n",
    "\n",
    "    Z = np.array([[1, 0], [0, -1]])\n",
    "    H = dt * J * np.kron(Z, Z)\n",
    "    T = scipy.linalg.expm(H).reshape(2, 2, 2, 2)\n",
    "\n",
    "    ket_new = []\n",
    "    \n",
    "    for i in range(0, L-1, 2):\n",
    "\n",
    "        A = np.einsum('ijk,klm->ijlm', ket[i], ket[i+1])\n",
    "        W = np.einsum('abjl,ijlm->iabm', T, A)\n",
    "        W = W.reshape(W.shape[0]*W.shape[1], -1)\n",
    "\n",
    "        U, S, Vh = np.linalg.svd(W, full_matrices=False)\n",
    "        \n",
    "        chi = len(S)\n",
    "        ket_new.append(U.reshape((-1, 2, chi)))\n",
    "        ket_new.append((np.diag(S) @ Vh).reshape(chi, 2, -1))\n",
    "\n",
    "    if L%2 != 0:\n",
    "        ket_new.append(ket[L-1])\n",
    "        \n",
    "        \n",
    "    return ket_new\n",
    "\n",
    "def twosite_odd_gate(dt, J, ket):\n",
    "\n",
    "    L = len(ket)\n",
    "\n",
    "    Z = np.array([[1, 0], [0, -1]])\n",
    "    H = dt* J * np.kron(Z, Z)\n",
    "    T = scipy.linalg.expm(H).reshape(2, 2, 2, 2)\n",
    "\n",
    "    ket_new = []\n",
    "    ket_new.append(ket[0])\n",
    "    \n",
    "    for i in range(1, L-1, 2):\n",
    "\n",
    "        A = np.einsum('ijk,klm->ijlm', ket[i], ket[i+1])\n",
    "        W = np.einsum('abjl,ijlm->iabm', T, A)\n",
    "        W = W.reshape(W.shape[0]*W.shape[1], -1)\n",
    "\n",
    "        U, S, Vh = np.linalg.svd(W, full_matrices=False)\n",
    "        \n",
    "        chi = len(S)\n",
    "        print(chi)\n",
    "        ket_new.append(U.reshape((-1, 2, chi)))\n",
    "        ket_new.append((np.diag(S) @ Vh).reshape(chi, 2, -1))\n",
    "    \n",
    "    if L%2 == 0:\n",
    "        ket_new.append(ket[L-1])\n",
    "        \n",
    "    return ket_new\n",
    "\n",
    "def canonical_converter(dt, J, ket):\n",
    "    "
   ]
  },
  {
   "cell_type": "code",
   "execution_count": 407,
   "id": "efafab6a-8dfb-412c-80b9-9c384a77101a",
   "metadata": {},
   "outputs": [
    {
     "name": "stdout",
     "output_type": "stream",
     "text": [
      "(-18.933755863543862+0j)\n"
     ]
    },
    {
     "ename": "ValueError",
     "evalue": "matmul: Input operand 1 has a mismatch in its core dimension 0, with gufunc signature (n?,k),(k,m?)->(n?,m?) (size 4096 is different from 1024)",
     "output_type": "error",
     "traceback": [
      "\u001b[1;31m---------------------------------------------------------------------------\u001b[0m",
      "\u001b[1;31mValueError\u001b[0m                                Traceback (most recent call last)",
      "Cell \u001b[1;32mIn[407], line 8\u001b[0m\n\u001b[0;32m      3\u001b[0m tensor3 \u001b[38;5;241m=\u001b[39m twosite_even_gate(\u001b[38;5;241m0.001\u001b[39m, J, tensor2)\n\u001b[0;32m      5\u001b[0m \u001b[38;5;28mprint\u001b[39m(expectation_value_energy(tensor3, hx, hz, J))\n\u001b[1;32m----> 8\u001b[0m \u001b[38;5;28mprint\u001b[39m(\u001b[43mpsi\u001b[49m\u001b[38;5;241;43m.\u001b[39;49m\u001b[43mconj\u001b[49m\u001b[43m(\u001b[49m\u001b[43m)\u001b[49m\u001b[38;5;241;43m.\u001b[39;49m\u001b[43mT\u001b[49m\u001b[43m \u001b[49m\u001b[38;5;241;43m@\u001b[39;49m\u001b[43m \u001b[49m\u001b[43mdenseH\u001b[49m\u001b[43m(\u001b[49m\u001b[43mL\u001b[49m\u001b[43m,\u001b[49m\u001b[43m \u001b[49m\u001b[43mJ\u001b[49m\u001b[43m,\u001b[49m\u001b[43m \u001b[49m\u001b[43mhx\u001b[49m\u001b[43m,\u001b[49m\u001b[43m \u001b[49m\u001b[43mhz\u001b[49m\u001b[43m,\u001b[49m\u001b[43m \u001b[49m\u001b[43mperiodic\u001b[49m\u001b[43m)\u001b[49m \u001b[38;5;241m@\u001b[39m psi)\n",
      "\u001b[1;31mValueError\u001b[0m: matmul: Input operand 1 has a mismatch in its core dimension 0, with gufunc signature (n?,k),(k,m?)->(n?,m?) (size 4096 is different from 1024)"
     ]
    }
   ],
   "source": [
    "tensor1 = local_gate(0.1, hx, hz, tensors)\n",
    "tensor2 = twosite_even_gate(0.001, J, tensor1)\n",
    "tensor3 = twosite_even_gate(0.001, J, tensor2)\n",
    "\n",
    "print(expectation_value_energy(tensor3, hx, hz, J))\n",
    "\n",
    "\n",
    "print(psi.conj().T @ denseH(L, J, hx, hz, periodic) @ psi)\n"
   ]
  },
  {
   "cell_type": "code",
   "execution_count": null,
   "id": "2688d218-9df5-4a30-9c5e-e6fd9070e0e3",
   "metadata": {},
   "outputs": [],
   "source": [
    "\n",
    "\n",
    "def twosite_gate(dt, J, ket):\n",
    "\n",
    "def trotter_step(dt, ket):\n",
    "\n",
    "def bond_dimension_conserver(k, ket):\n",
    "    "
   ]
  }
 ],
 "metadata": {
  "kernelspec": {
   "display_name": "Python 3 (ipykernel)",
   "language": "python",
   "name": "python3"
  },
  "language_info": {
   "codemirror_mode": {
    "name": "ipython",
    "version": 3
   },
   "file_extension": ".py",
   "mimetype": "text/x-python",
   "name": "python",
   "nbconvert_exporter": "python",
   "pygments_lexer": "ipython3",
   "version": "3.11.8"
  }
 },
 "nbformat": 4,
 "nbformat_minor": 5
}
